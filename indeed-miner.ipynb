{
 "cells": [
  {
   "cell_type": "code",
   "execution_count": null,
   "metadata": {},
   "outputs": [],
   "source": [
    "# Setting up environment\n",
    "# ----------------------\n",
    "# Import libraries\n",
    "import psycopg2\n",
    "import cloudscraper\n",
    "import time\n",
    "from bs4 import BeautifulSoup\n",
    "import sys\n",
    "import os\n",
    "\n",
    "# Set custom path for secrets\n",
    "cwd = os.getcwd()\n",
    "secrets = os.path.join(cwd,\"../Secrets\")\n",
    "print(secrets)\n",
    "sys.path.insert(0,secrets)"
   ]
  },
  {
   "cell_type": "markdown",
   "metadata": {},
   "source": [
    "<h4 style=\"color:orange\"> Make database of links to job postings. </hi>\n"
   ]
  },
  {
   "cell_type": "code",
   "execution_count": null,
   "metadata": {},
   "outputs": [],
   "source": [
    "# Logging\n",
    "# -------\n",
    "log_dir = os.path.join(os.getcwd(),'Logs')\n",
    "print(log_dir)\n",
    "file_num = len([file for file in os.listdir(log_dir) if 'log' in file])\n",
    "log_file = 'log' + str(file_num) + '.txt'\n",
    "log_path = os.path.join(log_dir,log_file)\n",
    "print(log_path)\n",
    "# Function to write to log files\n",
    "def w2f(text):\n",
    "    if type(text) != str:\n",
    "        text = str(text)\n",
    "    with open(log_path,'a+') as f:\n",
    "        f.write(text)\n",
    "        f.write(\"\\n\")"
   ]
  },
  {
   "cell_type": "code",
   "execution_count": null,
   "metadata": {},
   "outputs": [],
   "source": [
    "# Feedback for sql commands\n",
    "# -------------------------\n",
    "# Function to run try-except wrapped sql commands \n",
    "def run_sql (conn, sql_cmnd):\n",
    "    cur = conn.cursor()\n",
    "    try:\n",
    "        cur.execute(sql_cmnd)\n",
    "        print('success: ' + sql_cmnd[:75])\n",
    "        w2f('success: ' + sql_cmnd[:100])\n",
    "    except:\n",
    "        print('FAIL: ' + sql_cmnd[:75])\n",
    "        w2f('FAIL: ' + sql_cmnd[:100])\n",
    "    conn.commit()\n",
    "    return 0\n",
    "    "
   ]
  },
  {
   "cell_type": "code",
   "execution_count": null,
   "metadata": {},
   "outputs": [],
   "source": [
    "# Connecting to local database\n",
    "# ----------------------------\n",
    "# Connect to database\n",
    "import crawler_pg_secrets as p\n",
    "pg_params = {\n",
    "    'host' : p.host,\n",
    "    'user' : p.user,\n",
    "    'dbname' : p.dbname,\n",
    "    'password' : p.password,\n",
    "    'port' : p.port\n",
    "}\n",
    "conn =  psycopg2.connect(**pg_params)\n",
    "cur = conn.cursor()\n",
    "conn.commit()"
   ]
  },
  {
   "cell_type": "code",
   "execution_count": null,
   "metadata": {},
   "outputs": [],
   "source": [
    "# Creating job url table\n",
    "# ----------------------\n",
    "table_name = 'indeed_horizon'\n",
    "\n",
    "# Drop previous horizon table\n",
    "sql_cmnd = \"drop table \" + table_name + \";\"\n",
    "run_sql(conn,sql_cmnd)\n",
    "\n",
    "# Create new horizon table\n",
    "sql_cmnd = \"create table \"\\\n",
    "    + table_name\\\n",
    "    + \" (id serial, url varchar(2046), visited integer);\"\n",
    "run_sql(conn,sql_cmnd)\n",
    "\n",
    "# Create MD5 hashed index\n",
    "sql_cmnd = 'CREATE UNIQUE INDEX url_md5 ON indeed_horizon(MD5(url));'\n",
    "run_sql(conn,sql_cmnd)"
   ]
  },
  {
   "cell_type": "code",
   "execution_count": null,
   "metadata": {},
   "outputs": [],
   "source": [
    "# Generate page urls\n",
    "# -------------------\n",
    "# Defining indeed endpoint, example: jobs?q=data+analyst&l=Toronto'&start=40\n",
    "def create_end_url(job = 'data analyst', location = 'toronto', page = 3):\n",
    "    connector_01 = '&l='\n",
    "    connector_02 = \"&start=\"\n",
    "    job_url = job.strip().replace(\" \",\"+\")\n",
    "    page_url = (page - 1) *10\n",
    "    location_url = location\n",
    "    end_url = '/jobs?q=' + job_url + connector_01 + location_url + connector_02 + str(page_url)\n",
    "    print(end_url)\n",
    "    w2f((\"Initial end url: \" + end_url))\n",
    "    return end_url\n",
    "\n",
    "# Defining indeed full url, example: https://ca.indeed.com/jobs?q=data+analyst&l=Toronto'&start=40\n",
    "def create_full_url(end_url):\n",
    "    base_url = 'https://ca.indeed.com'\n",
    "    full_url =  base_url + end_url\n",
    "    print(full_url)\n",
    "    w2f(('Initial full url: ' + full_url))\n",
    "    return full_url\n",
    "\n",
    "end_url = create_end_url('data entry', 'toronto',1) # testing url = create_url('data entry', 'ottawa',9)\n",
    "full_url = create_full_url(end_url)\n"
   ]
  },
  {
   "cell_type": "code",
   "execution_count": null,
   "metadata": {},
   "outputs": [],
   "source": [
    "#Build table of horizons\n",
    "# -----------------------\n",
    "# Function to enter url into database\n",
    "def db_input (url, visited = 0, table_name = 'indeed_horizon'):\n",
    "    sql_cmnd = \"insert into indeed_horizon (url, visited) values ('\" + url + \"',\" +str(visited)+ \");\"\n",
    "    exit_status = run_sql(conn,sql_cmnd)\n",
    "    return exit_status\n",
    "\n",
    "# Extract urls from indeed\n",
    "# ------------------------\n",
    "# Parse page (from response object) for job urls\n",
    "def scrape_soup(soup,advert_count):\n",
    "    print(\"advert type count begining: \", type(advert_count))\n",
    "    job_url_base = 'https://ca.indeed.com'\n",
    "    ident='jcs-JobTitle css-jspxzf eu4oa1w0'\n",
    "    class_link = soup.find_all(class_=ident) # Div class containing job link\n",
    "    for link in class_link:\n",
    "        advert_count += 1\n",
    "        job_url_end = link.get('href')\n",
    "        job_url = job_url_base + job_url_end\n",
    "        exit_status = db_input(job_url)\n",
    "        #print(\"advert_count before, scrape_soup: \",  advert_count)\n",
    "        # if exit_status == 0:\n",
    "        #     advert_count += 1\n",
    "        #print(\"advert_count after, scrape_soup: \",  advert_count)\n",
    "        print(advert_count)\n",
    "        w2f((\"Job advert number: \" + str(advert_count)))\n",
    "        w2f((\"Full job advert url\" + job_url))\n",
    "    return advert_count"
   ]
  },
  {
   "cell_type": "code",
   "execution_count": null,
   "metadata": {},
   "outputs": [],
   "source": [
    "# Scraping with cloudscraper\n",
    "# --------------------------\n",
    "# Scraping instance\n",
    "print(full_url)\n",
    "scraper = cloudscraper.create_scraper()\n",
    "\n",
    "# Cycling through pages\n",
    "exit_flag = 0\n",
    "advert_count = 0\n",
    "page = 0\n",
    "max_pages = 4\n",
    "while (exit_flag == 0 and page < max_pages):\n",
    "    page += 1\n",
    "    print(\"page:\",page)\n",
    "    response = scraper.get(full_url)\n",
    "    soup = BeautifulSoup(response.text,\"html.parser\")\n",
    "    # Extract adverts from page\n",
    "    print(\"advert_count before, in page loop: \",  type(advert_count))\n",
    "    advert_count = scrape_soup(soup, advert_count)\n",
    "    print(\"advert_count after, in page loop: \",  type(advert_count))\n",
    "    print(response.status_code)\n",
    "    # Find next page\n",
    "    try:\n",
    "        next_page_resultset = soup.find_all(attrs = {'data-testid':'pagination-page-next'})\n",
    "        print(next_page_resultset)\n",
    "        next_page_end_link = next_page_resultset[0]['href']\n",
    "        print(\"next page link:\",next_page_end_link)\n",
    "        w2f(next_page_end_link)\n",
    "        time.sleep(1)\n",
    "        full_url = create_full_url(next_page_end_link)\n",
    "    except:\n",
    "        exit_flag = 1\n",
    "        # print(\"T5\")\n"
   ]
  },
  {
   "cell_type": "markdown",
   "metadata": {},
   "source": [
    "<h4 style=\"color:orange\"> Make local cache of job postings. </hi>"
   ]
  },
  {
   "cell_type": "code",
   "execution_count": null,
   "metadata": {},
   "outputs": [],
   "source": [
    "# Get job posting addresses from database.\n",
    "# ----------------------------------------\n",
    "sql_cmnd=\"select count(*) from indeed_horizon;\"\n",
    "run_sql(conn,sql_cmnd)"
   ]
  },
  {
   "cell_type": "markdown",
   "metadata": {},
   "source": [
    "<h4 style=\"color:hotpink\"> Testing. </h4>"
   ]
  },
  {
   "cell_type": "code",
   "execution_count": null,
   "metadata": {},
   "outputs": [],
   "source": [
    "var1=\"hi\"\n",
    "print(type(var1))\n",
    "type(var1) == str\n",
    "cwd=os.getcwd()\n",
    "os.listdir(cwd+'/../')\n",
    "os.join"
   ]
  }
 ],
 "metadata": {
  "kernelspec": {
   "display_name": "Python 3.10.6 ('web_crawler')",
   "language": "python",
   "name": "python3"
  },
  "language_info": {
   "codemirror_mode": {
    "name": "ipython",
    "version": 3
   },
   "file_extension": ".py",
   "mimetype": "text/x-python",
   "name": "python",
   "nbconvert_exporter": "python",
   "pygments_lexer": "ipython3",
   "version": "3.10.6"
  },
  "orig_nbformat": 4,
  "vscode": {
   "interpreter": {
    "hash": "b60a2bb557e69d124fd19224932390de37784c66ec12d760cec017879ae03d89"
   }
  }
 },
 "nbformat": 4,
 "nbformat_minor": 2
}
