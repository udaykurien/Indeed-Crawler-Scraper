{
 "cells": [
  {
   "cell_type": "code",
   "execution_count": 1,
   "id": "7514b9ee",
   "metadata": {},
   "outputs": [],
   "source": [
    "# Import libraries\n",
    "import psycopg2\n",
    "import requests\n",
    "import sys\n",
    "import os\n",
    "\n",
    "# Set custom path for secrets\n",
    "sys.path.insert(0,\"/home/nuclear/Github/PythonPrograms/Secrets\")"
   ]
  },
  {
   "cell_type": "code",
   "execution_count": 2,
   "id": "b6d10938",
   "metadata": {},
   "outputs": [],
   "source": [
    "# Connect to database\n",
    "import crawler_pg_secrets as p\n",
    "\n",
    "pg_con_params = {\n",
    "    'host' : p.host,\n",
    "    'user' : p.user,\n",
    "    'dbname' : p.dbname,\n",
    "    'password' : p.password,\n",
    "    'port' : p.port\n",
    "}\n",
    "\n",
    "conn =  psycopg2.connect(**pg_con_params)\n",
    "conn.commit()\n",
    "cur = conn.cursor()"
   ]
  },
  {
   "cell_type": "code",
   "execution_count": 3,
   "id": "4b37d319",
   "metadata": {},
   "outputs": [
    {
     "name": "stdout",
     "output_type": "stream",
     "text": [
      "indeed_horizondropped.\n"
     ]
    },
    {
     "ename": "NameError",
     "evalue": "name 'sqlCreateTable' is not defined",
     "output_type": "error",
     "traceback": [
      "\u001b[0;31m---------------------------------------------------------------------------\u001b[0m",
      "\u001b[0;31mNameError\u001b[0m                                 Traceback (most recent call last)",
      "Input \u001b[0;32mIn [3]\u001b[0m, in \u001b[0;36m<cell line: 15>\u001b[0;34m()\u001b[0m\n\u001b[1;32m     11\u001b[0m \u001b[38;5;66;03m# Create new horizon table\u001b[39;00m\n\u001b[1;32m     12\u001b[0m sql_cmnd \u001b[38;5;241m=\u001b[39m \u001b[38;5;124m\"\u001b[39m\u001b[38;5;124mcreate table \u001b[39m\u001b[38;5;124m\"\u001b[39m\\\n\u001b[1;32m     13\u001b[0m     \u001b[38;5;241m+\u001b[39m table_name\\\n\u001b[1;32m     14\u001b[0m     \u001b[38;5;241m+\u001b[39m \u001b[38;5;124m\"\u001b[39m\u001b[38;5;124m (id serial, url varchar(256), visited integer);\u001b[39m\u001b[38;5;124m\"\u001b[39m\n\u001b[0;32m---> 15\u001b[0m cur\u001b[38;5;241m.\u001b[39mexecute(\u001b[43msqlCreateTable\u001b[49m)    \n\u001b[1;32m     17\u001b[0m \u001b[38;5;66;03m# cur.execute(\"create table indeed_horizon(id serial, name varchar(120));\")\u001b[39;00m\n\u001b[1;32m     18\u001b[0m conn\u001b[38;5;241m.\u001b[39mcommit()\n",
      "\u001b[0;31mNameError\u001b[0m: name 'sqlCreateTable' is not defined"
     ]
    }
   ],
   "source": [
    "# Drop previous horizon table\n",
    "table_name = 'indeed_horizon'\n",
    "try:\n",
    "    sql_cmnd = \"drop table \" + table_name + \";\"\n",
    "    cur.execute(sql_cmnd)\n",
    "    print(table_name + 'dropped.')\n",
    "except:\n",
    "    print(table_name + ' not found.')\n",
    "conn.commit()\n",
    "\n",
    "# Create new horizon table\n",
    "sql_cmnd = \"create table \"\\\n",
    "    + table_name\\\n",
    "    + \" (id serial, url varchar(256), visited integer);\"\n",
    "cur.execute(sql_cmnd)    \n",
    "\n",
    "# cur.execute(\"create table indeed_horizon(id serial, name varchar(120));\")\n",
    "conn.commit()\n",
    "\n"
   ]
  }
 ],
 "metadata": {
  "kernelspec": {
   "display_name": "Python [conda env:web_crawler] *",
   "language": "python",
   "name": "conda-env-web_crawler-py"
  },
  "language_info": {
   "codemirror_mode": {
    "name": "ipython",
    "version": 3
   },
   "file_extension": ".py",
   "mimetype": "text/x-python",
   "name": "python",
   "nbconvert_exporter": "python",
   "pygments_lexer": "ipython3",
   "version": "3.10.6"
  }
 },
 "nbformat": 4,
 "nbformat_minor": 5
}
